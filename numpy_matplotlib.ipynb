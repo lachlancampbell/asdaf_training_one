{
 "cells": [
  {
   "cell_type": "markdown",
   "id": "motivated-temperature",
   "metadata": {},
   "source": [
    "# Numpy"
   ]
  },
  {
   "cell_type": "code",
   "execution_count": 2,
   "id": "advance-thong",
   "metadata": {},
   "outputs": [],
   "source": [
    "import numpy as np #import numpy\n",
    "import matplotlib.pyplot as plt #import matplotlib\n",
    "from matplotlib.ticker import PercentFormatter"
   ]
  },
  {
   "cell_type": "code",
   "execution_count": 3,
   "id": "challenging-fraction",
   "metadata": {},
   "outputs": [],
   "source": [
    "## Create an array of evenly space values starting at 1 to 10 (excluding 10)\n",
    "myArray = np.arange(1,10)"
   ]
  },
  {
   "cell_type": "code",
   "execution_count": 4,
   "id": "liberal-humanitarian",
   "metadata": {},
   "outputs": [
    {
     "data": {
      "text/plain": [
       "dtype('int64')"
      ]
     },
     "execution_count": 4,
     "metadata": {},
     "output_type": "execute_result"
    }
   ],
   "source": [
    "## Return the datatype of an array\n",
    "myArray.dtype"
   ]
  },
  {
   "cell_type": "code",
   "execution_count": 5,
   "id": "assumed-supplier",
   "metadata": {},
   "outputs": [
    {
     "data": {
      "text/plain": [
       "array([[0., 0.],\n",
       "       [0., 0.],\n",
       "       [0., 0.]])"
      ]
     },
     "execution_count": 5,
     "metadata": {},
     "output_type": "execute_result"
    }
   ],
   "source": [
    "## Return a 3x2 array filled with zeros\n",
    "np.zeros((3,2))"
   ]
  },
  {
   "cell_type": "code",
   "execution_count": 6,
   "id": "artistic-theta",
   "metadata": {},
   "outputs": [
    {
     "data": {
      "text/plain": [
       "array([[1., 1.],\n",
       "       [1., 1.],\n",
       "       [1., 1.]])"
      ]
     },
     "execution_count": 6,
     "metadata": {},
     "output_type": "execute_result"
    }
   ],
   "source": [
    "## Return a 3x2 array filled with ones\n",
    "np.ones((3,2))"
   ]
  },
  {
   "cell_type": "code",
   "execution_count": 7,
   "id": "coated-bulgarian",
   "metadata": {},
   "outputs": [
    {
     "data": {
      "text/plain": [
       "\u001b[0;31mSignature:\u001b[0m \u001b[0mnp\u001b[0m\u001b[0;34m.\u001b[0m\u001b[0mones\u001b[0m\u001b[0;34m(\u001b[0m\u001b[0mshape\u001b[0m\u001b[0;34m,\u001b[0m \u001b[0mdtype\u001b[0m\u001b[0;34m=\u001b[0m\u001b[0;32mNone\u001b[0m\u001b[0;34m,\u001b[0m \u001b[0morder\u001b[0m\u001b[0;34m=\u001b[0m\u001b[0;34m'C'\u001b[0m\u001b[0;34m,\u001b[0m \u001b[0;34m*\u001b[0m\u001b[0;34m,\u001b[0m \u001b[0mlike\u001b[0m\u001b[0;34m=\u001b[0m\u001b[0;32mNone\u001b[0m\u001b[0;34m)\u001b[0m\u001b[0;34m\u001b[0m\u001b[0;34m\u001b[0m\u001b[0m\n",
       "\u001b[0;31mDocstring:\u001b[0m\n",
       "Return a new array of given shape and type, filled with ones.\n",
       "\n",
       "Parameters\n",
       "----------\n",
       "shape : int or sequence of ints\n",
       "    Shape of the new array, e.g., ``(2, 3)`` or ``2``.\n",
       "dtype : data-type, optional\n",
       "    The desired data-type for the array, e.g., `numpy.int8`.  Default is\n",
       "    `numpy.float64`.\n",
       "order : {'C', 'F'}, optional, default: C\n",
       "    Whether to store multi-dimensional data in row-major\n",
       "    (C-style) or column-major (Fortran-style) order in\n",
       "    memory.\n",
       "like : array_like\n",
       "    Reference object to allow the creation of arrays which are not\n",
       "    NumPy arrays. If an array-like passed in as ``like`` supports\n",
       "    the ``__array_function__`` protocol, the result will be defined\n",
       "    by it. In this case, it ensures the creation of an array object\n",
       "    compatible with that passed in via this argument.\n",
       "\n",
       "    .. note::\n",
       "        The ``like`` keyword is an experimental feature pending on\n",
       "        acceptance of :ref:`NEP 35 <NEP35>`.\n",
       "\n",
       "    .. versionadded:: 1.20.0\n",
       "\n",
       "Returns\n",
       "-------\n",
       "out : ndarray\n",
       "    Array of ones with the given shape, dtype, and order.\n",
       "\n",
       "See Also\n",
       "--------\n",
       "ones_like : Return an array of ones with shape and type of input.\n",
       "empty : Return a new uninitialized array.\n",
       "zeros : Return a new array setting values to zero.\n",
       "full : Return a new array of given shape filled with value.\n",
       "\n",
       "\n",
       "Examples\n",
       "--------\n",
       ">>> np.ones(5)\n",
       "array([1., 1., 1., 1., 1.])\n",
       "\n",
       ">>> np.ones((5,), dtype=int)\n",
       "array([1, 1, 1, 1, 1])\n",
       "\n",
       ">>> np.ones((2, 1))\n",
       "array([[1.],\n",
       "       [1.]])\n",
       "\n",
       ">>> s = (2,2)\n",
       ">>> np.ones(s)\n",
       "array([[1.,  1.],\n",
       "       [1.,  1.]])\n",
       "\u001b[0;31mFile:\u001b[0m      ~/Documents/ASDAF Training/env/lib/python3.8/site-packages/numpy/core/numeric.py\n",
       "\u001b[0;31mType:\u001b[0m      function\n"
      ]
     },
     "metadata": {},
     "output_type": "display_data"
    }
   ],
   "source": [
    "#See the documentation for a function\n",
    "np.ones?"
   ]
  },
  {
   "cell_type": "code",
   "execution_count": 11,
   "id": "patent-adjustment",
   "metadata": {},
   "outputs": [
    {
     "data": {
      "text/plain": [
       "(9,)"
      ]
     },
     "execution_count": 11,
     "metadata": {},
     "output_type": "execute_result"
    }
   ],
   "source": [
    "## Return the shape of an array\n",
    "myArray.shape"
   ]
  },
  {
   "cell_type": "code",
   "execution_count": 12,
   "id": "metropolitan-writer",
   "metadata": {},
   "outputs": [],
   "source": [
    "## Return random integers from 0 (inclusive) to 50 (exlusive) in a 10x2 array\n",
    "randomArray = np.random.randint(0,50, size=(10,2))"
   ]
  },
  {
   "cell_type": "code",
   "execution_count": 13,
   "id": "colonial-navigation",
   "metadata": {},
   "outputs": [
    {
     "data": {
      "text/plain": [
       "array([[35, 34, 36, 48, 39, 33, 36, 23,  3, 13],\n",
       "       [32, 23, 20, 21,  2, 13,  9, 30, 39, 33]])"
      ]
     },
     "execution_count": 13,
     "metadata": {},
     "output_type": "execute_result"
    }
   ],
   "source": [
    "## Transpose the axis of an array. For 1D arrays this has no affect.\n",
    "randomArray.transpose()"
   ]
  },
  {
   "cell_type": "code",
   "execution_count": 14,
   "id": "diagnostic-decision",
   "metadata": {},
   "outputs": [],
   "source": [
    "## Returns the array transformed into 1D\n",
    "my1Darray=randomArray.flatten()"
   ]
  },
  {
   "cell_type": "code",
   "execution_count": 11,
   "id": "eight-reservoir",
   "metadata": {},
   "outputs": [
    {
     "data": {
      "text/plain": [
       "39"
      ]
     },
     "execution_count": 11,
     "metadata": {},
     "output_type": "execute_result"
    }
   ],
   "source": [
    "## Selects a random element from a 1D Array\n",
    "np.random.choice(my1Darray)"
   ]
  },
  {
   "cell_type": "code",
   "execution_count": 12,
   "id": "disabled-wellington",
   "metadata": {},
   "outputs": [
    {
     "data": {
      "text/plain": [
       "array([77, 47, 80, 31, 32, 75, 57, 35, 44, 12])"
      ]
     },
     "execution_count": 12,
     "metadata": {},
     "output_type": "execute_result"
    }
   ],
   "source": [
    "## Sum the values along the a given axis\n",
    "randomArray.sum(axis=1) #along the columns"
   ]
  },
  {
   "cell_type": "code",
   "execution_count": 15,
   "id": "congressional-protein",
   "metadata": {},
   "outputs": [
    {
     "data": {
      "text/plain": [
       "array([33.5, 28.5, 28. , 34.5, 20.5, 23. , 22.5, 26.5, 21. , 23. ])"
      ]
     },
     "execution_count": 15,
     "metadata": {},
     "output_type": "execute_result"
    }
   ],
   "source": [
    "## Find the mean of values along the rows\n",
    "np.mean(randomArray, axis=1)"
   ]
  },
  {
   "cell_type": "code",
   "execution_count": 14,
   "id": "special-double",
   "metadata": {},
   "outputs": [
    {
     "data": {
      "text/plain": [
       "29.5"
      ]
     },
     "execution_count": 14,
     "metadata": {},
     "output_type": "execute_result"
    }
   ],
   "source": [
    "## Find the median along a given axis while ginoring NaNs.\n",
    "## If no axis is given, the median is derived from a flattened version of the array\n",
    "np.nanmedian(randomArray)"
   ]
  },
  {
   "cell_type": "code",
   "execution_count": 15,
   "id": "distant-genetics",
   "metadata": {},
   "outputs": [
    {
     "data": {
      "text/plain": [
       "array([[ 1.        , -0.03174273],\n",
       "       [-0.03174273,  1.        ]])"
      ]
     },
     "execution_count": 15,
     "metadata": {},
     "output_type": "execute_result"
    }
   ],
   "source": [
    "## Return Pearson product-moment correlation coefficients\n",
    "## Here we find the correlation coefficient between column 1 and column 2\n",
    "## randomArray[:,0] -> select column 1\n",
    "np.corrcoef(randomArray[:,0], randomArray[:,1])"
   ]
  },
  {
   "cell_type": "markdown",
   "id": "dominican-montgomery",
   "metadata": {},
   "source": [
    "# Matplotlib"
   ]
  },
  {
   "cell_type": "code",
   "execution_count": 16,
   "id": "focal-reply",
   "metadata": {},
   "outputs": [],
   "source": [
    "## Import matplotlib\n",
    "import matplotlib.pyplot as plt\n",
    "%matplotlib inline\n",
    "\n",
    "## import pandas\n",
    "import pandas as pd\n",
    "\n",
    "#import numpu\n",
    "import numpy as np"
   ]
  },
  {
   "cell_type": "code",
   "execution_count": 16,
   "id": "whole-omega",
   "metadata": {},
   "outputs": [
    {
     "data": {
      "text/plain": [
       "Text(0, 0.5, 'Y values')"
      ]
     },
     "execution_count": 16,
     "metadata": {},
     "output_type": "execute_result"
    },
    {
     "data": {
      "image/png": "[encoded data removed]",
      "text/plain": [
       "<Figure size 432x288 with 1 Axes>"
      ]
     },
     "metadata": {
      "needs_background": "light"
     },
     "output_type": "display_data"
    }
   ],
   "source": [
    "x_array = np.linspace(0,5,10) ##Create an array of 10 evenly space numbers between 0 and five\n",
    "y_array = x_array**2 ## Y array is squared of x array values\n",
    "plt.plot(x_array, y_array) ## Plot x and y arrays\n",
    "plt.title(\"My Plot\") ## Add title to plot\n",
    "plt.xlabel('X values') ## Add x label to plot\n",
    "plt.ylabel('Y values') ## Add y label to plot"
   ]
  },
  {
   "cell_type": "code",
   "execution_count": 18,
   "id": "attached-impact",
   "metadata": {},
   "outputs": [
    {
     "data": {
      "text/plain": [
       "<matplotlib.legend.Legend at 0x10cd97f10>"
      ]
     },
     "execution_count": 18,
     "metadata": {},
     "output_type": "execute_result"
    },
    {
     "data": {
      "image/png": "[encoded data removed]",
      "text/plain": [
       "<Figure size 360x288 with 1 Axes>"
      ]
     },
     "metadata": {
      "needs_background": "light"
     },
     "output_type": "display_data"
    }
   ],
   "source": [
    "fig_1 = plt.figure(figsize=(5,4)) #Create a figure, the top level container for all the plot elements.\n",
    "axes_1 = fig_1.add_axes([0.1,0.1,0.9,0.9]) ##Add axes to the figure and define the dimensions [left, bottom, width, height]. \n",
    "# All quantities are in fractions of figure width and height.\n",
    "\n",
    "axes_1.set_xlabel('Number') ## Add X label to axes\n",
    "axes_1.set_ylabel('Number Squared') ## Add Y label to axes\n",
    "axes_1.set_title('Number vs Number Squared Chart') ## Add Title to axes\n",
    "axes_1.plot(x_array, y_array, label='X vs X^2') ## Plot x and y array\n",
    "axes_1.plot(y_array,x_array, label='X^2 vs X') ## Plot y and x array\n",
    "axes_1.legend(loc=3) # 1 = upper right, 2 = upper left, 3 = lower left, 4 = lower right"
   ]
  },
  {
   "cell_type": "code",
   "execution_count": 19,
   "id": "welsh-utilization",
   "metadata": {},
   "outputs": [],
   "source": [
    "# Save figure to Jupyter notebook directory\n",
    "fig_1.savefig('myplot.png')"
   ]
  },
  {
   "cell_type": "markdown",
   "id": "quiet-combining",
   "metadata": {},
   "source": [
    "## Scatter Plot"
   ]
  },
  {
   "cell_type": "code",
   "execution_count": 22,
   "id": "current-agreement",
   "metadata": {},
   "outputs": [],
   "source": [
    "scatter_array = np.random.randint(0,50, size=(50,2))"
   ]
  },
  {
   "cell_type": "code",
   "execution_count": 23,
   "id": "charitable-liechtenstein",
   "metadata": {},
   "outputs": [],
   "source": [
    "x = scatter_array[:,0] #selects the first column of scatter_array\n",
    "y = scatter_array[:,1] #selects the second column of scatter_array"
   ]
  },
  {
   "cell_type": "code",
   "execution_count": 24,
   "id": "pleasant-tsunami",
   "metadata": {},
   "outputs": [
    {
     "data": {
      "image/png": "[encoded data removed]",
      "text/plain": [
       "<Figure size 360x288 with 1 Axes>"
      ]
     },
     "metadata": {
      "needs_background": "light"
     },
     "output_type": "display_data"
    }
   ],
   "source": [
    "fig_2 = plt.figure(figsize=(5,4)) #create a new figure\n",
    "axes_2 = fig_2.add_axes([0.1,0.1,0.9,0.9]) ##Add axes to the figure and define the dimensions [left, bottom, width, height]. \n",
    "axes_2.set_xlabel('x') ## Add X label to axes\n",
    "axes_2.set_ylabel('y') ## Add Y label to axes\n",
    "axes_2.set_title('x vs y') ## Add Title to axes\n",
    "axes_2.set_xticks(np.arange(0,50,5)) #set x tick labels\n",
    "axes_2.set_yticks(np.arange(0,50,5)) #set y tick labels\n",
    "\n",
    "plt.scatter(x,y) #Plot a scatter plot\n",
    "plt.show() # not required in Jupyter Notebook"
   ]
  },
  {
   "cell_type": "markdown",
   "id": "tamil-kenya",
   "metadata": {},
   "source": [
    "## Histogram"
   ]
  },
  {
   "cell_type": "code",
   "execution_count": 25,
   "id": "shared-answer",
   "metadata": {},
   "outputs": [],
   "source": [
    "#create an array of 5000 random numbers between 0 and 200\n",
    "hist_array = np.random.randint(0,200,(5000,1)) "
   ]
  },
  {
   "cell_type": "code",
   "execution_count": 26,
   "id": "portuguese-fetish",
   "metadata": {},
   "outputs": [
    {
     "data": {
      "image/png": "[encoded data removed]",
      "text/plain": [
       "<Figure size 720x360 with 1 Axes>"
      ]
     },
     "metadata": {
      "needs_background": "light"
     },
     "output_type": "display_data"
    }
   ],
   "source": [
    "fig_3 = plt.figure(figsize=(10,5)) #create a new figure\n",
    "axes_3 = fig_3.add_axes([0.1,0.1,0.9,0.9]) ##Add axes to the figure and define the dimensions [left, bottom, width, height]. \n",
    "axes_3.set_xlabel('Reflectance') ## Add X label to axes\n",
    "axes_3.set_ylabel('# of Points') ## Add Y label to axes\n",
    "axes_3.set_title('Reflectance Frequency') ## Add Title to axes\n",
    "plt.hist(hist_array, bins=50) #Plot a Histogram\n",
    "plt.show() # not required in Jupyter Notebook"
   ]
  },
  {
   "cell_type": "code",
   "execution_count": null,
   "id": "short-lindsay",
   "metadata": {},
   "outputs": [],
   "source": []
  }
 ],
 "metadata": {
  "kernelspec": {
   "display_name": "Python 3",
   "language": "python",
   "name": "python3"
  },
  "language_info": {
   "codemirror_mode": {
    "name": "ipython",
    "version": 3
   },
   "file_extension": ".py",
   "mimetype": "text/x-python",
   "name": "python",
   "nbconvert_exporter": "python",
   "pygments_lexer": "ipython3",
   "version": "3.8.2"
  }
 },
 "nbformat": 4,
 "nbformat_minor": 5
}
